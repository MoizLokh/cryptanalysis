{
 "cells": [
  {
   "cell_type": "code",
   "execution_count": 7,
   "metadata": {},
   "outputs": [],
   "source": [
    "import matplotlib.pyplot as plt\n",
    "from collections import Counter, OrderedDict"
   ]
  },
  {
   "cell_type": "code",
   "execution_count": 8,
   "metadata": {},
   "outputs": [],
   "source": [
    "def brute_force_caesar_attack(ciphertext):\n",
    "    alphabet = \"ABCDEFGHIJKLMNOPQRSTUVWXYZ\"\n",
    "    for shift in range(1, 26):\n",
    "        plaintext = \"\"\n",
    "        for letter in ciphertext:\n",
    "            shifted_index = (alphabet.index(letter) - shift) % 26\n",
    "            plaintext += alphabet[shifted_index]\n",
    "        print(\"For shift = \" + str(shift) + \": \" + plaintext)\n"
   ]
  },
  {
   "cell_type": "code",
   "execution_count": 40,
   "metadata": {},
   "outputs": [],
   "source": [
    "ciphertext = \"YHZOZJBDACYHQAFDCWZONOZMBOPBRLZQAYHBYACOUQUBLQGZYHQAPQYDCWZONMIGHCIYCVYHZJBNYCHZBOYHZOBRRQYDBNYCQYDZLVCHUZBOCHUZBOQDHBLLRZLBYZJHZADHZYHCIFHYQYCWZOBVYZOJBOUDQYCGGIOOZUYCHZOYHBYDHZCIFHYYCHBWZJCAUZOZUBYYHQDRIYBYYHZYQMZQYBLLDZZMZUEIQYZABYIOBLRIYJHZAYHZOBRRQYBGYIBLLNYCCPBJBYGHCIYCVQYDJBQDYGCBYXCGPZYBAULCCPZUBYQYBAUYHZAHIOOQZUCABLQGZDYBOYZUYCHZOVZZYVCOQYVLBDHZUBGOCDDHZOMQAUYHBYDHZHBUAZWZORZVCOZDZZABOBRRQYJQYHZQYHZOBJBQDYGCBYXCGPZYCOBJBYGHYCYBPZCIYCVQYBAURIOAQAFJQYHGIOQCDQYNDHZOBABGOCDDYHZVQZLUBVYZOQYBAUVCOYIABYZLNJBDSIDYQAYQMZYCDZZQYXCXUCJABLBOFZOBRRQYHCLZIAUZOYHZHZUFZ\"\n",
    "# brute_force_caesar_attack(ciphertext)"
   ]
  },
  {
   "cell_type": "code",
   "execution_count": 29,
   "metadata": {},
   "outputs": [],
   "source": [
    "def freq_analysis(ciphertext):\n",
    "    return Counter(ciphertext)"
   ]
  },
  {
   "cell_type": "code",
   "execution_count": 41,
   "metadata": {},
   "outputs": [],
   "source": [
    "freq_map = OrderedDict(freq_analysis(ciphertext).most_common())"
   ]
  },
  {
   "cell_type": "code",
   "execution_count": 42,
   "metadata": {},
   "outputs": [
    {
     "data": {
      "image/png": "[encoded data removed]",
      "text/plain": [
       "<Figure size 640x480 with 1 Axes>"
      ]
     },
     "metadata": {},
     "output_type": "display_data"
    }
   ],
   "source": [
    "plt.bar(*zip(*freq_map.items()))\n",
    "plt.show()"
   ]
  },
  {
   "cell_type": "code",
   "execution_count": 47,
   "metadata": {},
   "outputs": [],
   "source": [
    "key = {\n",
    "    \"Y\": \"t\",\n",
    "    \"H\": \"h\",\n",
    "    \"Z\": \"e\",\n",
    "    \"D\": \"s\",\n",
    "    \"O\": \"r\",\n",
    "    \"J\": \"w\",\n",
    "    \"B\": \"a\",\n",
    "    \"A\": \"n\",\n",
    "    \"C\": \"o\",\n",
    "    \"Q\": \"i\",\n",
    "    \"F\": \"g\",\n",
    "    \"R\": \"b\",\n",
    "    \"I\": \"u\",\n",
    "    \"V\": \"f\",\n",
    "    \"N\": \"y\",\n",
    "    \"W\": \"v\",\n",
    "    \"M\": \"m\",\n",
    "    \"G\": \"c\",\n",
    "    \"P\": \"k\",\n",
    "    \"S\": \"j\",\n",
    "    \"E\": \"q\",\n",
    "    \"X\": \"p\",\n",
    "    \"U\": \"d\",\n",
    "    \"L\": \"l\"\n",
    "}"
   ]
  },
  {
   "cell_type": "code",
   "execution_count": 48,
   "metadata": {},
   "outputs": [
    {
     "data": {
      "text/plain": [
       "24"
      ]
     },
     "execution_count": 48,
     "metadata": {},
     "output_type": "execute_result"
    }
   ],
   "source": [
    "len(key)"
   ]
  },
  {
   "cell_type": "code",
   "execution_count": 50,
   "metadata": {},
   "outputs": [],
   "source": [
    "def substitution_cipher(ciphertext, key):\n",
    "    plaintext = \"\"\n",
    "    for letter in ciphertext:\n",
    "        plaintext += key[letter]\n",
    "    return plaintext"
   ]
  },
  {
   "cell_type": "code",
   "execution_count": 51,
   "metadata": {},
   "outputs": [
    {
     "data": {
      "text/plain": [
       "'therewasnothingsoveryremarkableinthatnordidalicethinkitsoverymuchoutofthewaytoheartherabbitsaytoitselfohdearohdearishallbelatewhenshethoughtitoverafterwardsitoccurredtoherthatsheoughttohavewonderedatthisbutatthetimeitallseemedquitenaturalbutwhentherabbitactuallytookawatchoutofitswaistcoatpocketandlookedatitandthenhurriedonalicestartedtoherfeetforitflashedacrosshermindthatshehadneverbeforeseenarabbitwitheitherawaistcoatpocketorawatchtotakeoutofitandburningwithcuriositysheranacrossthefieldafteritandfortunatelywasjustintimetoseeitpopdownalargerabbitholeunderthehedge'"
      ]
     },
     "execution_count": 51,
     "metadata": {},
     "output_type": "execute_result"
    }
   ],
   "source": [
    "substitution_cipher(ciphertext=ciphertext, key=key)"
   ]
  },
  {
   "cell_type": "code",
   "execution_count": null,
   "metadata": {},
   "outputs": [],
   "source": []
  }
 ],
 "metadata": {
  "kernelspec": {
   "display_name": "env",
   "language": "python",
   "name": "python3"
  },
  "language_info": {
   "codemirror_mode": {
    "name": "ipython",
    "version": 3
   },
   "file_extension": ".py",
   "mimetype": "text/x-python",
   "name": "python",
   "nbconvert_exporter": "python",
   "pygments_lexer": "ipython3",
   "version": "3.11.6"
  }
 },
 "nbformat": 4,
 "nbformat_minor": 2
}
